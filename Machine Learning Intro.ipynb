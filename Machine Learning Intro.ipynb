{
 "cells": [
  {
   "cell_type": "code",
   "execution_count": 1,
   "metadata": {},
   "outputs": [],
   "source": [
    "import numpy as np\n",
    "import scipy\n",
    "import pandas as pd\n",
    "import matplotlib.pyplot as plt\n",
    "\n",
    "%matplotlib inline\n",
    "%load_ext autoreload\n",
    "%autoreload 2"
   ]
  },
  {
   "cell_type": "markdown",
   "metadata": {},
   "source": [
    "# Machine Learning Handson -- Training a Linear SVM\n",
    "\n",
    "*Note: This notebook was adapted from an exercise originally designed for a workshop by [Christoph Lampert](http://pub.ist.ac.at/~chl/index.html) and [Kristian Kersting](http://www-ai.cs.uni-dortmund.de/PERSONAL/kersting.html)*\n",
    "\n",
    "The example task we will solve is to classify images of eyes as open or closed. We fix the following setting:\n",
    "\n",
    "- Input: images of eyes, grayscale, 24x24px\n",
    "- Output: $y=1$ for open eyes, $y=-1$ for closed eyes\n",
    "- Model: linear function $f(x) = <w, x>$ with model parameters $w \\in \\mathbb R^d$. Prediction: $g(x) = \\text{sign}(f(x))$\n",
    "\n",
    "To learn the model parameters, we use the *Least-Squares Support Vector Machine (LS-SVM)* algorithm:\n",
    "\n",
    "**Least-Squares Support Vector Machine (LS-SVM)**\n",
    "\n",
    "- `input` $X \\in \\mathcal R^{n \\times d}$ data matrix for $x_1, \\dots, x_n$ with $x_i \\in \\mathcal R^d$\n",
    "- `input` $Y \\in \\mathcal R^n$ vector of output values $y_1, \\dots, y_n$ with $y_i \\in \\mathcal R$\n",
    "- `input` $\\lambda \\ge 0$ regularization hyperparameter\n",
    "    - `compute` $A = X > X + λ Id_{d \\times d}$ where $Id_{d \\times d}$ is the $d \\times d$ identity matrix\n",
    "    - `compute` $b = X > Y$\n",
    "    - `compute` $w$ by solving $Aw = b$ (e.g. `w = numpy.linalg.solve(A, b)` ) etc.)\n",
    "- `output` $w$"
   ]
  },
  {
   "cell_type": "markdown",
   "metadata": {},
   "source": [
    "## Exercise 1 – Model Learning\n",
    "\n",
    "1. Load the data files ”Xtrain.txt” and ”Ytrain.txt”. They contain the training images as row vectors of pixel intensities and the ground truth annotation, respectively.\n",
    "2. Split the data into two parts of (approximately) equal size. As the data file is in randomly shuffled order, you can split any way you like, e.g. first half/second half, or even/odd indices.\n",
    "    - Xtrn/Y trn, which we will use for learning the model, and\n",
    "    - Xval/Y val, which we will use as validation data."
   ]
  },
  {
   "cell_type": "code",
   "execution_count": 2,
   "metadata": {},
   "outputs": [],
   "source": [
    "X = pd.read_csv(\"data/Xtrain.txt\", sep=\" \", header=None).as_matrix()\n",
    "y = pd.read_csv(\"data/Ytrain.txt\", sep=\" \", header=None).as_matrix()\n",
    "\n",
    "Xtest = pd.read_csv(\"data/Xtest.txt\", sep=\" \", header=None).as_matrix()\n",
    "ytest = pd.read_csv(\"data/Ytest.txt\", sep=\" \", header=None).as_matrix()\n",
    "\n",
    "Xval2 = pd.read_csv(\"data/Xval2.txt\", sep=\" \", header=None).as_matrix()\n",
    "yval2 = pd.read_csv(\"data/Yval2.txt\", sep=\" \", header=None).as_matrix()\n",
    "\n",
    "Xtest2 = pd.read_csv(\"data/Xtest2.txt\", sep=\" \", header=None).as_matrix()\n",
    "ytest2 = pd.read_csv(\"data/Ytest2.txt\", sep=\" \", header=None).as_matrix()\n",
    "\n",
    "Xview = X.reshape((-1, 24, 24))\n",
    "Xvalview = Xval2.reshape((-1, 24, 24))\n",
    "\n",
    "mask = np.random.uniform(0,1,size=len(X))\n",
    "mask = mask > mask.mean()\n",
    "\n",
    "Xt = X[mask]\n",
    "yt = y[mask]\n",
    "Xv = X[~mask]\n",
    "yv = y[~mask]"
   ]
  },
  {
   "cell_type": "code",
   "execution_count": 3,
   "metadata": {},
   "outputs": [
    {
     "data": {
      "image/png": "[encoded data removed]",
      "text/plain": [
       "<matplotlib.figure.Figure at 0x7fe8dc70ab70>"
      ]
     },
     "metadata": {},
     "output_type": "display_data"
    },
    {
     "data": {
      "image/png": "[encoded data removed]",
      "text/plain": [
       "<matplotlib.figure.Figure at 0x7fe8ae93edd8>"
      ]
     },
     "metadata": {},
     "output_type": "display_data"
    }
   ],
   "source": [
    "plt.imshow(np.concatenate(Xview[:10], axis=1), cmap=\"gray\")\n",
    "plt.axis('off')\n",
    "plt.show()\n",
    "plt.imshow(np.concatenate(Xvalview[:10], axis=1), cmap=\"gray\")\n",
    "plt.axis('off')\n",
    "plt.show()"
   ]
  },
  {
   "cell_type": "markdown",
   "metadata": {},
   "source": [
    "3. implement a routine `train(X,Y,λ)` that\n",
    "    - learns w from any given X, Y and λ, as specified in Algorithm 1\n",
    "4. write a routine `predict(w,x)` that\n",
    "    - uses the model with parameter vector w to predict outputs for data x: f(x) = hx, wi.\n",
    "    - if x is a matrix instead of a vector, make one prediction for each row vector.\n",
    "5. implement a routine `loss(y,pred)` that\n",
    "    - computes the loss, i.e. outputs 1 if $sign(pred) \\neq y$ and 0 otherwise (tip: $sign(pred) \\neq= y$ is equivalent to $pred \\cdot y \\le 0$).\n",
    "    - if y and pred are vectors,the losses should be computed for each component"
   ]
  },
  {
   "cell_type": "code",
   "execution_count": 4,
   "metadata": {
    "collapsed": true
   },
   "outputs": [],
   "source": [
    "def train(X,y,reg=0):\n",
    "    assert reg >= 0\n",
    "    \n",
    "    A = np.dot(X.T, X) + reg * np.eye(len(X.T))\n",
    "    b = np.dot(X.T, y)\n",
    "    w = np.linalg.solve(A, b)\n",
    "    \n",
    "    return w\n",
    "\n",
    "def predict(w, x):\n",
    "    return np.dot(x, w)\n",
    "\n",
    "def loss(y, pred):\n",
    "    return (y * pred <= 0).mean()"
   ]
  },
  {
   "cell_type": "markdown",
   "metadata": {},
   "source": [
    "6. use Xtrn and Ytrn to learn a model (a weight vector w) without regularization (λ = 0)\n",
    "7. compute the training error:\n",
    "    - use the trained model (i.e. w) to predict values on Xtrn\n",
    "    - compute the average of losses between the predicted values and the ground truth Ytrn\n",
    "8. compute the validation error:\n",
    "    - use the trained model (i.e. w) to predict values on Xval\n",
    "    - compute the average of losses between the predicted values and the ground truth Yval\n",
    "9. Compare the training and the validation error. What do you think you see? Overfitting, underfitting or neither?"
   ]
  },
  {
   "cell_type": "code",
   "execution_count": 5,
   "metadata": {
    "collapsed": true
   },
   "outputs": [],
   "source": [
    "# TODO"
   ]
  },
  {
   "cell_type": "markdown",
   "metadata": {},
   "source": [
    "## Exercise 2 – Model Selection: Regularization\n",
    "\n",
    "1. repeat the above steps of training and evaluation for $\\lambda \\in A$ for $A = \\{2^{−20}, 2^{−19}, \\dots, 2^{20}\\}$\n",
    "2. plot a graph with $\\lambda$ on the x-axis (in logarithmic units) and training and validation error on the y axis. What do you observe?\n",
    "3. write a routine `modelselect(Xtrn, Ytrn, Xval, Yval, A)` that automatizes the above steps and returns the value of λ with smallest validation error and the validation error itself. Print a warning if the largest or smallest value in A is selected."
   ]
  },
  {
   "cell_type": "code",
   "execution_count": 6,
   "metadata": {
    "collapsed": true
   },
   "outputs": [],
   "source": [
    "def modelselect(Xt,yt,Xv,yv,regs):\n",
    "    losses_t = np.zeros((len(regs),))\n",
    "    losses_v = np.zeros((len(regs),))\n",
    "\n",
    "    for i, reg in enumerate(regs):\n",
    "        w    = train(Xt, yt, reg)\n",
    "        losses_t[i] = loss(yt, predict(w, Xt))\n",
    "        losses_v[i] = loss(yv, predict(w, Xv))\n",
    "        \n",
    "    i_best = np.argmin(losses_v)\n",
    "    \n",
    "    return train(Xt, yt, reg=regs[i_best]), losses_t,\\\n",
    "           losses_v"
   ]
  },
  {
   "cell_type": "markdown",
   "metadata": {},
   "source": [
    "4\\. run the modelselect routine on the training/validation data and confirm that the output coincides with the location of the minimum in the plot.\n",
    "\n",
    "5\\. (optional) identify the 5 validation examples with highest score and the 5 validation examples with lowest score. Find and visualize the corresponding input images (you’ll have to convert them from 576-dimensional vectors to 24×24 image for that). What do you see?"
   ]
  },
  {
   "cell_type": "code",
   "execution_count": 7,
   "metadata": {
    "collapsed": true
   },
   "outputs": [],
   "source": [
    "regs = 2**np.linspace(-20, 20, 100)\n",
    "\n",
    "w,lt,lv = modelselect(Xt,yt,Xv,yv,regs)\n",
    "best_loss = loss(yv, predict(w, Xv))"
   ]
  },
  {
   "cell_type": "code",
   "execution_count": 8,
   "metadata": {},
   "outputs": [
    {
     "data": {
      "image/png": "[encoded data removed]",
      "text/plain": [
       "<matplotlib.figure.Figure at 0x7fe8ae8a01d0>"
      ]
     },
     "metadata": {},
     "output_type": "display_data"
    }
   ],
   "source": [
    "plt.figure(figsize=(10,4))\n",
    "\n",
    "plt.plot(regs, lt, label=\"train\")\n",
    "plt.plot(regs, lv, label=\"valid\")\n",
    "plt.legend()\n",
    "\n",
    "plt.title(\"Best loss: {:.3f}\".format(best_loss))\n",
    "plt.xscale(\"log\")\n",
    "plt.xlabel(\"\")\n",
    "plt.ylabel(\"Loss\")\n",
    "plt.show()"
   ]
  },
  {
   "cell_type": "markdown",
   "metadata": {},
   "source": [
    "## Exercise 3 – Model Evaluation\n",
    "1. before going on, decide on a single model that you believe is the best one.\n",
    "2. load the test data from the files ”Xtest.txt”, and the ground truth labels ”Ytest.txt”.\n",
    "3. compute the test error of the model you selected. Is the results similar to the validation error? If yes, congratulations!"
   ]
  },
  {
   "cell_type": "code",
   "execution_count": 9,
   "metadata": {},
   "outputs": [
    {
     "name": "stdout",
     "output_type": "stream",
     "text": [
      "Test Error: 0.093\n",
      "Test Accuracy: 0.907\n"
     ]
    }
   ],
   "source": [
    "print(\"Test Error: {:.3f}\".format(\n",
    "        loss(ytest, predict(w, Xtest))\n",
    "        ))\n",
    "\n",
    "print(\"Test Accuracy: {:.3f}\".format(\n",
    "        1 - loss(ytest, predict(w, Xtest))\n",
    "        ))"
   ]
  },
  {
   "cell_type": "markdown",
   "metadata": {},
   "source": [
    "## Exercise 4 – Distribution Mismatch\n",
    "\n",
    "1. load the data files \"Xval2.txt\" and \"Yval2.txt\". They data contained are also eye images, but of right eyes, where the for the previous exercises is was left eyes."
   ]
  },
  {
   "cell_type": "markdown",
   "metadata": {},
   "source": [
    "2\\. take the model you trained before and evaluate how well it works on the new images. What do you observe?"
   ]
  },
  {
   "cell_type": "code",
   "execution_count": 10,
   "metadata": {},
   "outputs": [
    {
     "name": "stdout",
     "output_type": "stream",
     "text": [
      "Right Eyes Set: 0.277\n"
     ]
    }
   ],
   "source": [
    "print(\"Right Eyes Set: {:.3f}\".format(\n",
    "        loss(yval2, predict(w, Xval2))\n",
    "        ))"
   ]
  },
  {
   "cell_type": "markdown",
   "metadata": {},
   "source": [
    "3\\. Optional: Imagine that you would have known in advance that the training data are only left eyes but that the test data are both left and right eyes. Can you think of a way to overcome/reduce the problem? If yes: implement your idea, do all necessary model selection steps etc, until you have a new model. Then evaluate it on the files \"Xtest2.txt\" and \"Ytest2.txt\"."
   ]
  },
  {
   "cell_type": "code",
   "execution_count": 11,
   "metadata": {
    "collapsed": true
   },
   "outputs": [],
   "source": [
    "regs = 2**np.linspace(-20, 20, 100)\n",
    "\n",
    "Xt_flipped = np.concatenate([Xt, Xt.reshape((-1,24,24))[...,::-1].reshape((-1,24*24))],axis=0)\n",
    "yt_flipped = np.concatenate([yt, yt],axis=0)\n",
    "\n",
    "w,lt,lv = modelselect(Xt_flipped,yt_flipped,Xv,yv,regs)"
   ]
  },
  {
   "cell_type": "code",
   "execution_count": 12,
   "metadata": {},
   "outputs": [
    {
     "data": {
      "image/png": "[encoded data removed]",
      "text/plain": [
       "<matplotlib.figure.Figure at 0x7fe8ae89c780>"
      ]
     },
     "metadata": {},
     "output_type": "display_data"
    }
   ],
   "source": [
    "plt.plot(regs, lt, label=\"train\")\n",
    "plt.plot(regs, lv, label=\"valid\")\n",
    "plt.legend()\n",
    "\n",
    "best_loss = loss(yv, predict(w, Xv))\n",
    "plt.title(\"Best loss: {:.3f}\".format(best_loss))\n",
    "\n",
    "plt.xscale(\"log\")\n",
    "\n",
    "plt.show()"
   ]
  },
  {
   "cell_type": "code",
   "execution_count": 13,
   "metadata": {},
   "outputs": [
    {
     "name": "stdout",
     "output_type": "stream",
     "text": [
      "Accuracies\n",
      "Left Eyes Test Set: 0.861\n",
      "Right Eyes Val Set: 0.820\n",
      "Right Eyes Test Set: 0.827\n"
     ]
    }
   ],
   "source": [
    "print(\"Accuracies\")\n",
    "\n",
    "print(\"Left Eyes Test Set: {:.3f}\".format(\n",
    "        1 - loss(ytest, predict(w, Xtest))\n",
    "        ))\n",
    "\n",
    "print(\"Right Eyes Val Set: {:.3f}\".format(\n",
    "        1 - loss(yval2, predict(w, Xval2))\n",
    "        ))\n",
    "\n",
    "print(\"Right Eyes Test Set: {:.3f}\".format(\n",
    "        1 - loss(ytest2, predict(w, Xtest2))\n",
    "        ))"
   ]
  },
  {
   "cell_type": "markdown",
   "metadata": {},
   "source": [
    "## Exercise 5 – Adversarial examples\n",
    "\n",
    "In this step we take an adversarial position and try to construct examples that to a human look like open eyes, but are misclassified as a closed eye (or vice versa).\n",
    "\n",
    "1. start with an arbitrary open eye image, x, from the validation set\n",
    "2. compute the model prediction, $f(x) = <w, x>$. We will assume that the classification is correct, i.e. $f(x) > 0$ (if not, use a different image)"
   ]
  },
  {
   "cell_type": "code",
   "execution_count": 14,
   "metadata": {},
   "outputs": [
    {
     "data": {
      "image/png": "[encoded data removed]",
      "text/plain": [
       "<matplotlib.figure.Figure at 0x7fe8ae6e89b0>"
      ]
     },
     "metadata": {},
     "output_type": "display_data"
    }
   ],
   "source": [
    "pred = predict(w, Xt) > 1\n",
    "\n",
    "sample = Xt[(np.squeeze(yt) == 1) & \\\n",
    "            (np.squeeze(pred) == 1)][-1]\n",
    "\n",
    "y_sample = predict(w, sample[np.newaxis,:])\n",
    "\n",
    "plt.title('Open' if y_sample > 0 else 'Closed')\n",
    "plt.imshow(sample.reshape((24,24)),cmap=\"gray\")\n",
    "plt.axis('off')\n",
    "plt.show()"
   ]
  },
  {
   "cell_type": "markdown",
   "metadata": {},
   "source": [
    "3\\. our goal is to find a distortion, δ, such that when we add it to the image, the result (x + δ) is classified incorrectly, e.g. $f(x + \\delta) < −1$. Can you derive such for perturbation δ with as small as possible L2-norm (treating the image like a vector)?"
   ]
  },
  {
   "cell_type": "code",
   "execution_count": 15,
   "metadata": {},
   "outputs": [
    {
     "name": "stdout",
     "output_type": "stream",
     "text": [
      "Old prediction: [[ 1.57176351]]\n",
      "Prediction after pertubation: [[-0.5]]\n"
     ]
    }
   ],
   "source": [
    "λ = (0.5 + np.dot(sample, w)) / np.dot(w.T, w).reshape((-1))\n",
    "δ = np.squeeze(-λ * w)\n",
    "\n",
    "y_old = predict(w, sample[np.newaxis,:])\n",
    "y_adv = predict(w, (sample + δ)[np.newaxis,:])\n",
    "\n",
    "print('Old prediction: {}'.format(y_old))\n",
    "print('Prediction after pertubation: {}'.format(y_adv))"
   ]
  },
  {
   "cell_type": "markdown",
   "metadata": {},
   "source": [
    "4\\. compute x + δ and visualize it. Does the result look like an open or a closed eye?\n",
    "5\\. in light of the closed-form expression you derived, discuss the role of the regularization parameter for the construction of adversarial images."
   ]
  },
  {
   "cell_type": "code",
   "execution_count": 16,
   "metadata": {},
   "outputs": [
    {
     "data": {
      "image/png": "[encoded data removed]",
      "text/plain": [
       "<matplotlib.figure.Figure at 0x7fe8ae88b208>"
      ]
     },
     "metadata": {},
     "output_type": "display_data"
    }
   ],
   "source": [
    "fig, axes = plt.subplots(1,3,figsize=(10,3))\n",
    "\n",
    "samples = [sample, sample + δ, δ]\n",
    "titles  = ['Original', 'Adversarial', 'Pertubation']\n",
    "\n",
    "for ax, im, title in zip(axes, samples, titles):\n",
    "    ax.imshow(im.reshape(24,24),cmap=\"gray\")\n",
    "    ax.set_title(title)\n",
    "    ax.axis('off')\n",
    "plt.show()"
   ]
  },
  {
   "cell_type": "markdown",
   "metadata": {},
   "source": [
    "6\\. derive the expression for δ that has the smallest L∞ norm, or the smallest L1 norm. Visualize the δ perturbations for the three different norms, as well as the corresponding perturbed images x + δ. Which of them looks most natural? Which of the perturbations is \"most dangerous\"?\n",
    "7\\. discuss: how to make a method robust to adversarial perturbations?"
   ]
  },
  {
   "cell_type": "code",
   "execution_count": 17,
   "metadata": {
    "collapsed": true
   },
   "outputs": [],
   "source": [
    "# TODO"
   ]
  }
 ],
 "metadata": {
  "kernelspec": {
   "display_name": "pytorch",
   "language": "python",
   "name": "python3"
  },
  "language_info": {
   "codemirror_mode": {
    "name": "ipython",
    "version": 3
   },
   "file_extension": ".py",
   "mimetype": "text/x-python",
   "name": "python",
   "nbconvert_exporter": "python",
   "pygments_lexer": "ipython3",
   "version": "3.6.2"
  }
 },
 "nbformat": 4,
 "nbformat_minor": 2
}
